{
  "nbformat": 4,
  "nbformat_minor": 0,
  "metadata": {
    "colab": {
      "provenance": [],
      "toc_visible": true
    },
    "kernelspec": {
      "name": "python3",
      "display_name": "Python 3"
    },
    "language_info": {
      "name": "python"
    }
  },
  "cells": [
    {
      "cell_type": "code",
      "execution_count": null,
      "metadata": {
        "id": "ogfzWseJmaJX"
      },
      "outputs": [],
      "source": [
        "import numpy as np"
      ]
    },
    {
      "cell_type": "markdown",
      "source": [
        "### Generar 100 datos aleatorios que toman los valores 0 o 1\n",
        "\n",
        "### El espacio muestral es $Ω = \\{0, 1\\}$"
      ],
      "metadata": {
        "id": "KEjOwgromb6M"
      }
    },
    {
      "cell_type": "code",
      "source": [
        "datos = np.random.choice([0, 1], size=100)"
      ],
      "metadata": {
        "id": "94mV9_-7mq76"
      },
      "execution_count": null,
      "outputs": []
    },
    {
      "cell_type": "code",
      "source": [],
      "metadata": {
        "id": "WHqVOUsBpnlT"
      },
      "execution_count": null,
      "outputs": []
    },
    {
      "cell_type": "markdown",
      "source": [
        "### Calcular la probabilidad de $w_1$ (probabilidad de que el dato sea 0)\n",
        "\n"
      ],
      "metadata": {
        "id": "KV7JBr73mwan"
      }
    },
    {
      "cell_type": "code",
      "source": [
        "w1 = np.sum(datos == 0) / len(datos)"
      ],
      "metadata": {
        "id": "-NlXZNJym0lQ"
      },
      "execution_count": null,
      "outputs": []
    },
    {
      "cell_type": "markdown",
      "source": [
        "### Calcular la probabilidad de $w_2$ (probabilidad de que el dato sea 1)"
      ],
      "metadata": {
        "id": "6jXsqWVYm2su"
      }
    },
    {
      "cell_type": "code",
      "source": [
        "w2 = np.sum(datos == 1) / len(datos)"
      ],
      "metadata": {
        "id": "OjfN_auIm2Xn"
      },
      "execution_count": null,
      "outputs": []
    },
    {
      "cell_type": "markdown",
      "source": [
        "### Verificar que se cumple el axioma $P(\\Omega) = 1$"
      ],
      "metadata": {
        "id": "aM9fX2VEm-xf"
      }
    },
    {
      "cell_type": "code",
      "source": [
        "P_omega = w1 + w2"
      ],
      "metadata": {
        "id": "O3IeEYUCnCiB"
      },
      "execution_count": null,
      "outputs": []
    },
    {
      "cell_type": "markdown",
      "source": [
        "### Imprimir los resultados"
      ],
      "metadata": {
        "id": "iHU6YGwonDy7"
      }
    },
    {
      "cell_type": "code",
      "source": [
        "print(\"Datos generados:\", datos)\n",
        "print(\"Espacion muestral: omega = {0,1}\")\n",
        "print(\"Probabilidad de w1 (0):\", w1)\n",
        "print(\"Probabilidad de w2 (1):\", w2)\n",
        "print(\"P(omega) = w1 + w2 = {:.2f} + {:.2f} = {:.2f}\".format(w1, w2, P_omega))"
      ],
      "metadata": {
        "colab": {
          "base_uri": "https://localhost:8080/"
        },
        "id": "cREOSFUgnGp6",
        "outputId": "6f9d8400-4d54-4681-e8ce-891dd04e33da"
      },
      "execution_count": null,
      "outputs": [
        {
          "output_type": "stream",
          "name": "stdout",
          "text": [
            "Datos generados: [0 0 0 0 1 1 1 0 1 1 1 1 1 1 0 1 1 1 0 0 1 1 0 1 1 0 0 1 1 0 0 0 1 1 1 0 0\n",
            " 1 0 1 1 0 1 0 1 1 1 1 0 1 1 1 1 1 0 1 0 1 1 1 0 1 0 0 1 1 1 0 0 1 0 0 0 1\n",
            " 1 0 0 0 1 1 1 1 1 0 1 1 0 0 1 1 1 0 0 0 0 1 0 0 1 0]\n",
            "Espacion muestral: omega = {0,1}\n",
            "Probabilidad de w1 (0): 0.43\n",
            "Probabilidad de w2 (1): 0.57\n",
            "P(omega) = w1 + w2 = 0.43 + 0.57 = 1.00\n"
          ]
        }
      ]
    },
    {
      "cell_type": "markdown",
      "source": [
        "# Verificación del axioma $P(\\Omega) = 1$"
      ],
      "metadata": {
        "id": "hD9-C51NnJAe"
      }
    },
    {
      "cell_type": "code",
      "source": [
        "if P_omega == 1.0:\n",
        "    print(\"El axioma P(omega) = 1 se cumple.\")\n",
        "else:\n",
        "    print(\"El axioma P(omega) = 1 no se cumple.\")"
      ],
      "metadata": {
        "colab": {
          "base_uri": "https://localhost:8080/"
        },
        "id": "ey2zDT-UnIz6",
        "outputId": "705bb245-3499-49c4-cc7d-07d289a0e310"
      },
      "execution_count": null,
      "outputs": [
        {
          "output_type": "stream",
          "name": "stdout",
          "text": [
            "El axioma P(omega) = 1 se cumple.\n"
          ]
        }
      ]
    }
  ]
}